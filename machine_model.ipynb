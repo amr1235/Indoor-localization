{
 "cells": [
  {
   "cell_type": "code",
   "execution_count": 1,
   "metadata": {},
   "outputs": [],
   "source": [
    "import pandas as pd"
   ]
  },
  {
   "cell_type": "code",
   "execution_count": 11,
   "metadata": {},
   "outputs": [
    {
     "name": "stdout",
     "output_type": "stream",
     "text": [
      "['class0' 'class1' 'class2' 'class3' 'drtamer' 'slm' 'lab1' 'Modarg']\n"
     ]
    }
   ],
   "source": [
    "wifi_data = pd.read_csv(\"wifi_data.csv\")\n",
    "wifi_data = wifi_data[[\"STUDBME1\",\"STUDBME2\",\"STUDBME3\",\"CMP-lab1\",\"CMP_LAB1\",\"Sbme-Staff\",\"CUFE\",\"bdawy\",\"Location\"]]\n",
    "print(wifi_data[\"Location\"].unique())"
   ]
  },
  {
   "cell_type": "code",
   "execution_count": 5,
   "metadata": {},
   "outputs": [],
   "source": [
    "from sklearn.ensemble import RandomForestClassifier\n",
    "from sklearn.model_selection import train_test_split\n"
   ]
  },
  {
   "cell_type": "code",
   "execution_count": 12,
   "metadata": {},
   "outputs": [],
   "source": [
    "X_train, X_test, y_train, y_test = train_test_split(wifi_data.iloc[:,:-1], wifi_data.iloc[:,-1], test_size=0.2, random_state=42)"
   ]
  },
  {
   "cell_type": "code",
   "execution_count": 5,
   "metadata": {},
   "outputs": [],
   "source": [
    "# from sklearn.feature_selection import SequentialFeatureSelector\n",
    "# from sklearn.neighbors import KNeighborsClassifier\n",
    "# knn = KNeighborsClassifier(n_neighbors=9)\n",
    "# f = SequentialFeatureSelector(knn,n_features_to_select=9)\n",
    "# X_train = f.fit_transform(X_train,y_train)\n",
    "# X_test = f.transform(X_test)\n",
    "# print(f.feature_names_in_[f.get_support()])"
   ]
  },
  {
   "cell_type": "code",
   "execution_count": 13,
   "metadata": {},
   "outputs": [
    {
     "name": "stdout",
     "output_type": "stream",
     "text": [
      "0.9259259259259259\n"
     ]
    }
   ],
   "source": [
    "from imblearn.ensemble import BalancedRandomForestClassifier\n",
    "classifier = BalancedRandomForestClassifier(random_state=42)\n",
    "classifier.fit(X_train,y_train)\n",
    "print(classifier.score(X_test,y_test))"
   ]
  },
  {
   "cell_type": "code",
   "execution_count": 15,
   "metadata": {},
   "outputs": [
    {
     "name": "stdout",
     "output_type": "stream",
     "text": [
      "0.9333333333333333\n"
     ]
    }
   ],
   "source": [
    "tree = RandomForestClassifier(random_state=42)\n",
    "tree.fit(X_train,y_train)\n",
    "print(tree.score(X_test,y_test))"
   ]
  },
  {
   "cell_type": "code",
   "execution_count": 8,
   "metadata": {},
   "outputs": [],
   "source": [
    "# to save the model as sav file\n",
    "import pickle\n",
    "filename = 'forest_model.sav'\n",
    "pickle.dump(tree, open(filename, 'wb'))"
   ]
  },
  {
   "cell_type": "code",
   "execution_count": 9,
   "metadata": {},
   "outputs": [
    {
     "ename": "FileNotFoundError",
     "evalue": "[Errno 2] No such file or directory: 'finalized_model.sav'",
     "output_type": "error",
     "traceback": [
      "\u001b[1;31m---------------------------------------------------------------------------\u001b[0m",
      "\u001b[1;31mFileNotFoundError\u001b[0m                         Traceback (most recent call last)",
      "\u001b[1;32mh:\\IOT\\Indoor-localization\\machine_model.ipynb Cell 9'\u001b[0m in \u001b[0;36m<module>\u001b[1;34m\u001b[0m\n\u001b[0;32m      <a href='vscode-notebook-cell:/h%3A/IOT/Indoor-localization/machine_model.ipynb#ch0000008?line=0'>1</a>\u001b[0m \u001b[39mimport\u001b[39;00m \u001b[39mpickle\u001b[39;00m\n\u001b[1;32m----> <a href='vscode-notebook-cell:/h%3A/IOT/Indoor-localization/machine_model.ipynb#ch0000008?line=1'>2</a>\u001b[0m loaded_model \u001b[39m=\u001b[39m pickle\u001b[39m.\u001b[39mload(\u001b[39mopen\u001b[39;49m(\u001b[39m'\u001b[39;49m\u001b[39mfinalized_model.sav\u001b[39;49m\u001b[39m'\u001b[39;49m, \u001b[39m'\u001b[39;49m\u001b[39mrb\u001b[39;49m\u001b[39m'\u001b[39;49m))\n",
      "\u001b[1;31mFileNotFoundError\u001b[0m: [Errno 2] No such file or directory: 'finalized_model.sav'"
     ]
    }
   ],
   "source": [
    "import pickle\n",
    "loaded_model = pickle.load(open('finalized_model.sav', 'rb'))"
   ]
  }
 ],
 "metadata": {
  "interpreter": {
   "hash": "61be8c8d4015cd93cf6433c95fd78eb18ff6b4622f9a43d6e604d816007f2819"
  },
  "kernelspec": {
   "display_name": "Python 3.10.2 64-bit",
   "language": "python",
   "name": "python3"
  },
  "language_info": {
   "codemirror_mode": {
    "name": "ipython",
    "version": 3
   },
   "file_extension": ".py",
   "mimetype": "text/x-python",
   "name": "python",
   "nbconvert_exporter": "python",
   "pygments_lexer": "ipython3",
   "version": "3.10.2"
  },
  "orig_nbformat": 4
 },
 "nbformat": 4,
 "nbformat_minor": 2
}
